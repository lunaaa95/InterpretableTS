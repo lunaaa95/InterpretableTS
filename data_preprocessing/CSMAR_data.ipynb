{
 "cells": [
  {
   "cell_type": "code",
   "execution_count": 1,
   "metadata": {},
   "outputs": [],
   "source": [
    "import pandas as pd\n",
    "from pyarrow import csv\n",
    "from fastparquet import *"
   ]
  },
  {
   "cell_type": "code",
   "execution_count": 2,
   "metadata": {},
   "outputs": [],
   "source": [
    "import torch\n",
    "import numpy as np"
   ]
  },
  {
   "cell_type": "markdown",
   "metadata": {},
   "source": [
    "## 读取数据"
   ]
  },
  {
   "cell_type": "code",
   "execution_count": 3,
   "metadata": {},
   "outputs": [],
   "source": [
    "stock_parquet_url = 'E://Study/2023/dataset/CSMAR/stock.parquet.gzip'"
   ]
  },
  {
   "cell_type": "code",
   "execution_count": 4,
   "metadata": {},
   "outputs": [],
   "source": [
    "stock_data = pd.read_parquet(stock_parquet_url)"
   ]
  },
  {
   "cell_type": "code",
   "execution_count": 7,
   "metadata": {},
   "outputs": [
    {
     "data": {
      "text/plain": [
       "(6436907, 21)"
      ]
     },
     "execution_count": 7,
     "metadata": {},
     "output_type": "execute_result"
    }
   ],
   "source": [
    "stock_data.shape"
   ]
  },
  {
   "cell_type": "code",
   "execution_count": 8,
   "metadata": {},
   "outputs": [
    {
     "data": {
      "text/plain": [
       "Stkcd                  000001\n",
       "Trddt              2016-01-05\n",
       "Opnprc                  11.27\n",
       "Hiprc                   11.57\n",
       "Loprc                   11.15\n",
       "Clsprc                   11.4\n",
       "Dnshrtrd             66326995\n",
       "Dnvaltrd         755531353.72\n",
       "Dsmvosd           134566222.2\n",
       "Dsmvtll          163118907.98\n",
       "Dretwd               0.006178\n",
       "Dretnd               0.006178\n",
       "Adjprcwd           942.851875\n",
       "Adjprcnd           786.944484\n",
       "Markettype                  4\n",
       "Capchgdt           2015-05-20\n",
       "Trdsta                      1\n",
       "Ahshrtrd_D                NaN\n",
       "Ahvaltrd_D                NaN\n",
       "PreClosePrice           11.33\n",
       "ChangeRatio          0.006178\n",
       "Name: 1, dtype: object"
      ]
     },
     "execution_count": 8,
     "metadata": {},
     "output_type": "execute_result"
    }
   ],
   "source": [
    "stock_data.iloc[1]"
   ]
  },
  {
   "cell_type": "markdown",
   "metadata": {},
   "source": [
    "## 预处理数据"
   ]
  },
  {
   "cell_type": "markdown",
   "metadata": {},
   "source": [
    "### 1. 日期股票信息汇总"
   ]
  },
  {
   "cell_type": "code",
   "execution_count": 5,
   "metadata": {},
   "outputs": [],
   "source": [
    "sectors = sorted(list(set([item for item in stock_data['Stkcd']])))\n",
    "timestamps = sorted(list(set([item for item in stock_data['Trddt']])))\n",
    "cap_chg_date = sorted(list(set([item for item in stock_data['Capchgdt']])))\n",
    "\n",
    "sector_to_index = dict(zip(sectors, range(len(sectors))))\n",
    "index_to_sector = dict(zip(range(len(sectors)), sectors))\n",
    "timestamps_to_index = dict(zip(timestamps, range(len(timestamps))))\n",
    "index_to_timestamps = dict(zip(range(len(timestamps)), timestamps))\n",
    "cap_chg_date_to_index = dict(zip(cap_chg_date, range(len(cap_chg_date))))\n",
    "index_to_cap_chg_date = dict(zip(range(len(cap_chg_date)), cap_chg_date))"
   ]
  },
  {
   "cell_type": "code",
   "execution_count": 10,
   "metadata": {},
   "outputs": [
    {
     "data": {
      "text/plain": [
       "'2016-01-18'"
      ]
     },
     "execution_count": 10,
     "metadata": {},
     "output_type": "execute_result"
    }
   ],
   "source": [
    "index_to_timestamps[10]"
   ]
  },
  {
   "cell_type": "code",
   "execution_count": 6,
   "metadata": {},
   "outputs": [],
   "source": [
    "# 替换时间属性\n",
    "stock_data['Trddt'] = stock_data['Trddt'].apply(lambda x: timestamps_to_index[x])\n",
    "stock_data['Capchgdt'] = stock_data['Capchgdt'].apply(lambda x: cap_chg_date_to_index[x])\n",
    "stock_data['idx'] = stock_data['Stkcd'].apply(lambda x: sector_to_index[x])"
   ]
  },
  {
   "cell_type": "markdown",
   "metadata": {},
   "source": [
    "### 2. 按照个股划分训练集测试集和验证集"
   ]
  },
  {
   "cell_type": "code",
   "execution_count": 12,
   "metadata": {},
   "outputs": [
    {
     "data": {
      "text/plain": [
       "5275"
      ]
     },
     "execution_count": 12,
     "metadata": {},
     "output_type": "execute_result"
    }
   ],
   "source": [
    "len(sector_to_index)"
   ]
  },
  {
   "cell_type": "code",
   "execution_count": 13,
   "metadata": {},
   "outputs": [
    {
     "data": {
      "text/plain": [
       "(477991, 22)"
      ]
     },
     "execution_count": 13,
     "metadata": {},
     "output_type": "execute_result"
    }
   ],
   "source": [
    "df_bool = stock_data[stock_data['idx'] < 300]\n",
    "df_bool.shape"
   ]
  },
  {
   "cell_type": "code",
   "execution_count": 7,
   "metadata": {},
   "outputs": [],
   "source": [
    "train_size = 300\n",
    "valid_size = 100\n",
    "test_size = 100\n",
    "# 每个都是用 len(size) - 1天预测最后一天的收盘价"
   ]
  },
  {
   "cell_type": "code",
   "execution_count": 8,
   "metadata": {},
   "outputs": [],
   "source": [
    "# 训练集\n",
    "train_data = stock_data[stock_data['idx'] < train_size]\n",
    "valid_data = stock_data[(stock_data['idx'] >= train_size) & (stock_data['idx'] < train_size + valid_size)]\n",
    "test_data = stock_data[(stock_data['idx'] >= train_size + valid_size) & (stock_data['idx'] < train_size + valid_size + test_size)]"
   ]
  },
  {
   "cell_type": "code",
   "execution_count": 16,
   "metadata": {},
   "outputs": [
    {
     "data": {
      "text/plain": [
       "((477991, 22), (163580, 22), (110732, 22))"
      ]
     },
     "execution_count": 16,
     "metadata": {},
     "output_type": "execute_result"
    }
   ],
   "source": [
    "train_data.shape, valid_data.shape, test_data.shape"
   ]
  },
  {
   "cell_type": "code",
   "execution_count": 9,
   "metadata": {},
   "outputs": [],
   "source": [
    "# 每个股票按交易时间排序\n",
    "def sort_by_trade_date(data):\n",
    "    res = {}\n",
    "    last_res = {}\n",
    "    last_trade_date = {}\n",
    "    cat_res = {}\n",
    "    # 分组\n",
    "    grouped_train_stock = data.groupby('Stkcd')\n",
    "    for stock_id, group in grouped_train_stock:\n",
    "        tmp = group.sort_values(by='Trddt')\n",
    "        res['stock' + str(stock_id)] = tmp.iloc[-1]['Clsprc']\n",
    "        last_res['stock' + str(stock_id)] = tmp.iloc[-2]['Clsprc']\n",
    "        last_trade_date['stock' + str(stock_id)] = tmp.iloc[-1]['Trddt']\n",
    "        if tmp.iloc[-2]['Clsprc'] < tmp.iloc[-1]['Clsprc']:\n",
    "            cat_res['stock' + str(stock_id)] = 1\n",
    "        else:\n",
    "            cat_res['stock' + str(stock_id)] = 0\n",
    "\n",
    "    return res, last_res, cat_res, last_trade_date"
   ]
  },
  {
   "cell_type": "code",
   "execution_count": 10,
   "metadata": {},
   "outputs": [],
   "source": [
    "# 获取 label\n",
    "train_label, train_last_label, train_cat_label, train_data_new = sort_by_trade_date(train_data)\n",
    "valid_label, valid_last_label, valid_cat_label, valid_data_new = sort_by_trade_date(valid_data)\n",
    "test_label, test_last_label, test_cat_label, test_data_new = sort_by_trade_date(test_data)"
   ]
  },
  {
   "cell_type": "code",
   "execution_count": 12,
   "metadata": {},
   "outputs": [
    {
     "data": {
      "text/plain": [
       "(13.16, 13.03, 1, 1702)"
      ]
     },
     "execution_count": 12,
     "metadata": {},
     "output_type": "execute_result"
    }
   ],
   "source": [
    "train_label['stock000001'], train_last_label['stock000001'], train_cat_label['stock000001'], train_data_new['stock000001']"
   ]
  },
  {
   "cell_type": "code",
   "execution_count": 11,
   "metadata": {},
   "outputs": [
    {
     "data": {
      "text/plain": [
       "(500, 500, 500)"
      ]
     },
     "execution_count": 11,
     "metadata": {},
     "output_type": "execute_result"
    }
   ],
   "source": [
    "from copy import deepcopy\n",
    "\n",
    "labels = deepcopy(train_label)\n",
    "labels.update(valid_label)\n",
    "labels.update(test_label)\n",
    "\n",
    "last_labels = deepcopy(train_last_label)\n",
    "last_labels.update(valid_last_label)\n",
    "last_labels.update(test_last_label)\n",
    "\n",
    "cat_labels = deepcopy(train_last_label)\n",
    "cat_labels.update(valid_last_label)\n",
    "cat_labels.update(test_last_label)\n",
    "\n",
    "len(labels), len(last_labels), len(cat_labels)"
   ]
  },
  {
   "cell_type": "code",
   "execution_count": 78,
   "metadata": {},
   "outputs": [],
   "source": []
  },
  {
   "cell_type": "markdown",
   "metadata": {},
   "source": [
    "### 3. 生成 ground truth 文件"
   ]
  },
  {
   "cell_type": "code",
   "execution_count": 21,
   "metadata": {},
   "outputs": [],
   "source": [
    "# 生成 ground_truth 文件\n",
    "def generate_ground_truth(task_type='reg'):\n",
    "    # 1. 回归任务直接生成\n",
    "    if task_type == 'reg':\n",
    "        with open('data/ground_truth_reg.csv', 'w') as f:\n",
    "            [f.write('{0},{1}\\n'.format(key, value)) for key, value in labels.items()]\n",
    "    # 2. 分类任务需考虑上一天的收盘价，看预测的这一天是涨还是跌，即二分类问题\n",
    "    else:\n",
    "        with open('data/ground_truth_cat.csv', 'w') as f:\n",
    "            [f.write('{0},{1}\\n'.format(key, value)) for key, value in cat_labels.items()]"
   ]
  },
  {
   "cell_type": "code",
   "execution_count": 58,
   "metadata": {},
   "outputs": [],
   "source": [
    "# 生成 ground_truth 文件\n",
    "generate_ground_truth()\n",
    "generate_ground_truth(task_type='cat')"
   ]
  },
  {
   "cell_type": "markdown",
   "metadata": {},
   "source": [
    "### 4. 按照个股划分 records"
   ]
  },
  {
   "cell_type": "code",
   "execution_count": 13,
   "metadata": {},
   "outputs": [],
   "source": [
    "import pathlib\n",
    "import pickle"
   ]
  },
  {
   "cell_type": "code",
   "execution_count": 14,
   "metadata": {},
   "outputs": [],
   "source": [
    "path = pathlib.Path('data')\n",
    "record_path = path / 'records'\n",
    "record_path.mkdir(exist_ok=True, parents=True)"
   ]
  },
  {
   "cell_type": "code",
   "execution_count": 79,
   "metadata": {},
   "outputs": [
    {
     "data": {
      "text/plain": [
       "Index(['Stkcd', 'Trddt', 'Opnprc', 'Hiprc', 'Loprc', 'Clsprc', 'Dnshrtrd',\n",
       "       'Dnvaltrd', 'Dsmvosd', 'Dsmvtll', 'Dretwd', 'Dretnd', 'Adjprcwd',\n",
       "       'Adjprcnd', 'Markettype', 'Capchgdt', 'Trdsta', 'Ahshrtrd_D',\n",
       "       'Ahvaltrd_D', 'PreClosePrice', 'ChangeRatio'],\n",
       "      dtype='object')"
      ]
     },
     "execution_count": 79,
     "metadata": {},
     "output_type": "execute_result"
    }
   ],
   "source": [
    "stock_data.columns"
   ]
  },
  {
   "cell_type": "code",
   "execution_count": 19,
   "metadata": {},
   "outputs": [],
   "source": [
    "columns = ['Trddt', 'Opnprc', 'Hiprc', 'Loprc', 'Clsprc', 'Dnshrtrd',\n",
    "       'Dnvaltrd', 'Dsmvosd', 'Dsmvtll', 'Dretwd', 'Dretnd', 'Adjprcwd',\n",
    "       'Adjprcnd', 'Markettype', 'Capchgdt', 'Trdsta', 'Ahshrtrd_D',\n",
    "       'Ahvaltrd_D', 'PreClosePrice', 'ChangeRatio']"
   ]
  },
  {
   "cell_type": "code",
   "execution_count": 16,
   "metadata": {},
   "outputs": [
    {
     "data": {
      "text/plain": [
       "Stkcd                  000001\n",
       "Trddt                      11\n",
       "Opnprc                  10.45\n",
       "Hiprc                   10.78\n",
       "Loprc                   10.41\n",
       "Clsprc                  10.71\n",
       "Dnshrtrd             50110908\n",
       "Dnvaltrd          532074699.5\n",
       "Dsmvosd          126421424.54\n",
       "Dsmvtll          153245921.45\n",
       "Dretwd               0.028818\n",
       "Dretnd               0.028818\n",
       "Adjprcwd           885.784525\n",
       "Adjprcnd           739.313632\n",
       "Markettype                  4\n",
       "Capchgdt                  554\n",
       "Trdsta                      1\n",
       "Ahshrtrd_D                NaN\n",
       "Ahvaltrd_D                NaN\n",
       "PreClosePrice           10.41\n",
       "ChangeRatio          0.028818\n",
       "idx                         0\n",
       "Name: 11, dtype: object"
      ]
     },
     "execution_count": 16,
     "metadata": {},
     "output_type": "execute_result"
    }
   ],
   "source": [
    "stock_data.iloc[11]"
   ]
  },
  {
   "cell_type": "code",
   "execution_count": 60,
   "metadata": {},
   "outputs": [],
   "source": []
  },
  {
   "cell_type": "code",
   "execution_count": 86,
   "metadata": {},
   "outputs": [
    {
     "data": {
      "text/plain": [
       "'data\\\\records\\\\'"
      ]
     },
     "execution_count": 86,
     "metadata": {},
     "output_type": "execute_result"
    }
   ],
   "source": [
    "str(record_path) + '\\\\'"
   ]
  },
  {
   "cell_type": "code",
   "execution_count": 17,
   "metadata": {},
   "outputs": [],
   "source": [
    "def records_to_file(data):\n",
    "    # 分组\n",
    "    grouped_train_stock = data.groupby('Stkcd')\n",
    "    # record 里只包括训练集\n",
    "    for stock_id, group in grouped_train_stock:\n",
    "        df = pd.DataFrame(group.sort_values(by='Trddt'), columns=columns).fillna(0)\n",
    "        df.drop(df.index[-1], inplace=True)\n",
    "        df.to_csv(record_path / f'stock{stock_id}.csv', header=True, index=False)"
   ]
  },
  {
   "cell_type": "code",
   "execution_count": 18,
   "metadata": {},
   "outputs": [],
   "source": [
    "records_to_file(train_data)\n",
    "records_to_file(valid_data)\n",
    "records_to_file(test_data)"
   ]
  },
  {
   "cell_type": "markdown",
   "metadata": {},
   "source": [
    "### 5. info 文件生成"
   ]
  },
  {
   "cell_type": "code",
   "execution_count": 74,
   "metadata": {},
   "outputs": [],
   "source": [
    "attributes_info = pd.DataFrame(columns=['col', 'dtype'])"
   ]
  },
  {
   "cell_type": "code",
   "execution_count": 76,
   "metadata": {},
   "outputs": [],
   "source": [
    "for col in columns:\n",
    "    attributes_info.loc[len(attributes_info)] = [col, 'num']\n",
    "attributes_info.to_csv(path / f'info.csv', header=True, index=False)"
   ]
  },
  {
   "cell_type": "markdown",
   "metadata": {},
   "source": [
    "## todo：用GRU跑一下原始数据得到训练集，测试集，验证集的预测结果（这里直接用的原始数据）"
   ]
  },
  {
   "cell_type": "code",
   "execution_count": 77,
   "metadata": {},
   "outputs": [],
   "source": [
    "with open('data/train_preds_reg.csv', 'w') as f:\n",
    "    [f.write('{0},{1}\\n'.format(key, value)) for key, value in train_label.items()]\n",
    "with open('data/valid_preds_reg.csv', 'w') as f:\n",
    "    [f.write('{0},{1}\\n'.format(key, value)) for key, value in valid_label.items()]\n",
    "with open('data/test_preds_reg.csv', 'w') as f:\n",
    "    [f.write('{0},{1}\\n'.format(key, value)) for key, value in test_label.items()]"
   ]
  },
  {
   "cell_type": "code",
   "execution_count": 88,
   "metadata": {},
   "outputs": [],
   "source": [
    "with open('data/train_preds_cat.csv', 'w') as f:\n",
    "    [f.write('{0},{1}\\n'.format(key, value)) for key, value in train_cat_label.items()]\n",
    "with open('data/valid_preds_cat.csv', 'w') as f:\n",
    "    [f.write('{0},{1}\\n'.format(key, value)) for key, value in valid_cat_label.items()]\n",
    "with open('data/test_preds_cat.csv', 'w') as f:\n",
    "    [f.write('{0},{1}\\n'.format(key, value)) for key, value in test_cat_label.items()]"
   ]
  },
  {
   "cell_type": "markdown",
   "metadata": {},
   "source": [
    "## 构造训练集测试集验证集以及对应标签"
   ]
  },
  {
   "cell_type": "code",
   "execution_count": 22,
   "metadata": {},
   "outputs": [],
   "source": [
    "from tqdm import tqdm"
   ]
  },
  {
   "cell_type": "code",
   "execution_count": 37,
   "metadata": {},
   "outputs": [],
   "source": [
    "def generate_data(data):\n",
    "    # 分组\n",
    "    columns.append(\"label\")\n",
    "    data_data = pd.DataFrame(columns=columns)\n",
    "    i = 0\n",
    "    grouped_train_stock = data.groupby('Stkcd')\n",
    "    for stock_id, group in grouped_train_stock:\n",
    "        df = pd.DataFrame(group.sort_values(by='Trddt'), columns=columns).fillna(0)\n",
    "        df['label'] = stock_data['Clsprc'].shift(-1)\n",
    "        df.drop(df.index[-1], inplace=True)\n",
    "        df.reset_index(inplace=True)\n",
    "        print(stock_id)\n",
    "        for j in range(len(group) - 1):\n",
    "            data_data.loc[i] = df.iloc[j].copy\n",
    "            data_data.loc[i, 'Stkcd'] = stock_id\n",
    "            i += 1\n",
    "    return data_data"
   ]
  },
  {
   "cell_type": "code",
   "execution_count": null,
   "metadata": {},
   "outputs": [
    {
     "name": "stdout",
     "output_type": "stream",
     "text": [
      "000001\n",
      "000002\n",
      "000004\n",
      "000005\n",
      "000006\n"
     ]
    }
   ],
   "source": [
    "train_data_f = generate_data(train_data)\n",
    "train_data_f.to_csv('./data/train_data.csv')"
   ]
  },
  {
   "cell_type": "markdown",
   "metadata": {},
   "source": [
    "### 1. 得到全部训练集按照30天划分的数据和label"
   ]
  },
  {
   "cell_type": "code",
   "execution_count": null,
   "metadata": {},
   "outputs": [],
   "source": [
    "grouped_train_stock = data.groupby('Stkcd')\n",
    "for stock_id, group in grouped_train_stock:\n",
    "    df = pd.DataFrame(group.sort_values(by='Trddt'), columns=columns).fillna(0)\n",
    "    df['label'] = stock_data['Clsprc'].shift(-1)\n",
    "    df.drop(df.index[-1], inplace=True)\n",
    "    df.reset_index(inplace=True)"
   ]
  }
 ],
 "metadata": {
  "kernelspec": {
   "display_name": "pytorch",
   "language": "python",
   "name": "pytorch"
  },
  "language_info": {
   "codemirror_mode": {
    "name": "ipython",
    "version": 3
   },
   "file_extension": ".py",
   "mimetype": "text/x-python",
   "name": "python",
   "nbconvert_exporter": "python",
   "pygments_lexer": "ipython3",
   "version": "3.8.5"
  }
 },
 "nbformat": 4,
 "nbformat_minor": 4
}
