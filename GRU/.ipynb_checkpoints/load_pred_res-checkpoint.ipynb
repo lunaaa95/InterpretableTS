{
 "cells": [
  {
   "cell_type": "code",
   "execution_count": 1,
   "metadata": {},
   "outputs": [],
   "source": [
    "import pickle\n",
    "import torch\n",
    "import pandas as pd\n",
    "import numpy as np"
   ]
  },
  {
   "cell_type": "code",
   "execution_count": 2,
   "metadata": {},
   "outputs": [],
   "source": [
    "def read_pickle(url):\n",
    "    with open(url, 'rb') as f:\n",
    "        res = pickle.load(f)\n",
    "    return res"
   ]
  },
  {
   "cell_type": "code",
   "execution_count": 3,
   "metadata": {},
   "outputs": [],
   "source": [
    "def pred_res(res_data, labels):\n",
    "    res = {}\n",
    "    i = 0\n",
    "    for l in labels:\n",
    "        res[l] = res_data[i].item()\n",
    "        i += 1\n",
    "    return res"
   ]
  },
  {
   "cell_type": "code",
   "execution_count": 4,
   "metadata": {},
   "outputs": [],
   "source": [
    "label_data = pd.read_csv('../data/stock100/groundtruth.csv', header=None)\n",
    "labels_all = list(label_data[0])\n",
    "labels_all"
   ]
  },
  {
   "cell_type": "code",
   "execution_count": 5,
   "metadata": {},
   "outputs": [],
   "source": [
    "def generate_map(url, labels_map):\n",
    "    with open(url, 'w') as f:\n",
    "        [f.write('{0},{1}\\n'.format(key, value)) for key, value in labels_map.items()]"
   ]
  },
  {
   "cell_type": "code",
   "execution_count": 6,
   "metadata": {},
   "outputs": [],
   "source": [
    "train_pred = read_pickle('./preds/train_pred.pkl')\n",
    "train_len = len(train_pred)\n",
    "train_res_file = pred_res(train_pred, labels_all[:train_len])\n",
    "generate_map('../data/stock100/gru_train_preds.csv', train_res_file)\n",
    "\n",
    "valid_pred = read_pickle('./preds/valid_pred.pkl')\n",
    "valid_len = len(valid_pred)\n",
    "valid_res_file = pred_res(valid_pred, labels_all[train_len: train_len + valid_len])\n",
    "generate_map('../data/stock100/gru_valid_preds.csv', valid_res_file)\n",
    "\n",
    "test_pred = read_pickle('./preds/test_pred.pkl')\n",
    "test_res_file = pred_res(test_pred, labels_all[train_len + valid_len:])\n",
    "generate_map('../data/stock100/gru_test_preds.csv', test_res_file)"
   ]
  },
  {
   "cell_type": "code",
   "execution_count": 7,
   "metadata": {},
   "outputs": [],
   "source": [
    "res = pd.read_csv('../data/stock100/gru_train_preds.csv')\n",
    "res"
   ]
  },
  {
   "cell_type": "code",
   "execution_count": 15,
   "metadata": {},
   "outputs": [
    {
     "data": {
      "text/html": [
       "<div>\n",
       "<style scoped>\n",
       "    .dataframe tbody tr th:only-of-type {\n",
       "        vertical-align: middle;\n",
       "    }\n",
       "\n",
       "    .dataframe tbody tr th {\n",
       "        vertical-align: top;\n",
       "    }\n",
       "\n",
       "    .dataframe thead th {\n",
       "        text-align: right;\n",
       "    }\n",
       "</style>\n",
       "<table border=\"1\" class=\"dataframe\">\n",
       "  <thead>\n",
       "    <tr style=\"text-align: right;\">\n",
       "      <th></th>\n",
       "      <th>000001_2016-02-22</th>\n",
       "      <th>1.0</th>\n",
       "    </tr>\n",
       "  </thead>\n",
       "  <tbody>\n",
       "    <tr>\n",
       "      <th>0</th>\n",
       "      <td>000001_2016-02-23</td>\n",
       "      <td>1.0</td>\n",
       "    </tr>\n",
       "    <tr>\n",
       "      <th>1</th>\n",
       "      <td>000001_2016-02-24</td>\n",
       "      <td>1.0</td>\n",
       "    </tr>\n",
       "    <tr>\n",
       "      <th>2</th>\n",
       "      <td>000001_2016-02-25</td>\n",
       "      <td>1.0</td>\n",
       "    </tr>\n",
       "    <tr>\n",
       "      <th>3</th>\n",
       "      <td>000001_2016-02-26</td>\n",
       "      <td>1.0</td>\n",
       "    </tr>\n",
       "    <tr>\n",
       "      <th>4</th>\n",
       "      <td>000001_2016-02-29</td>\n",
       "      <td>1.0</td>\n",
       "    </tr>\n",
       "    <tr>\n",
       "      <th>...</th>\n",
       "      <td>...</td>\n",
       "      <td>...</td>\n",
       "    </tr>\n",
       "    <tr>\n",
       "      <th>119618</th>\n",
       "      <td>000155_2020-07-14</td>\n",
       "      <td>1.0</td>\n",
       "    </tr>\n",
       "    <tr>\n",
       "      <th>119619</th>\n",
       "      <td>000155_2020-07-15</td>\n",
       "      <td>1.0</td>\n",
       "    </tr>\n",
       "    <tr>\n",
       "      <th>119620</th>\n",
       "      <td>000155_2020-07-16</td>\n",
       "      <td>1.0</td>\n",
       "    </tr>\n",
       "    <tr>\n",
       "      <th>119621</th>\n",
       "      <td>000155_2020-07-17</td>\n",
       "      <td>1.0</td>\n",
       "    </tr>\n",
       "    <tr>\n",
       "      <th>119622</th>\n",
       "      <td>000155_2020-07-20</td>\n",
       "      <td>1.0</td>\n",
       "    </tr>\n",
       "  </tbody>\n",
       "</table>\n",
       "<p>119623 rows × 2 columns</p>\n",
       "</div>"
      ],
      "text/plain": [
       "        000001_2016-02-22  1.0\n",
       "0       000001_2016-02-23  1.0\n",
       "1       000001_2016-02-24  1.0\n",
       "2       000001_2016-02-25  1.0\n",
       "3       000001_2016-02-26  1.0\n",
       "4       000001_2016-02-29  1.0\n",
       "...                   ...  ...\n",
       "119618  000155_2020-07-14  1.0\n",
       "119619  000155_2020-07-15  1.0\n",
       "119620  000155_2020-07-16  1.0\n",
       "119621  000155_2020-07-17  1.0\n",
       "119622  000155_2020-07-20  1.0\n",
       "\n",
       "[119623 rows x 2 columns]"
      ]
     },
     "execution_count": 15,
     "metadata": {},
     "output_type": "execute_result"
    }
   ],
   "source": [
    "res"
   ]
  },
  {
   "cell_type": "code",
   "execution_count": null,
   "metadata": {},
   "outputs": [],
   "source": []
  }
 ],
 "metadata": {
  "kernelspec": {
   "display_name": "pytorch",
   "language": "python",
   "name": "pytorch"
  },
  "language_info": {
   "codemirror_mode": {
    "name": "ipython",
    "version": 3
   },
   "file_extension": ".py",
   "mimetype": "text/x-python",
   "name": "python",
   "nbconvert_exporter": "python",
   "pygments_lexer": "ipython3",
   "version": "3.8.16"
  }
 },
 "nbformat": 4,
 "nbformat_minor": 4
}
